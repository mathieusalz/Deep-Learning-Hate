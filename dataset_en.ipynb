{
 "cells": [
  {
   "cell_type": "code",
   "execution_count": 1,
   "id": "7421d848",
   "metadata": {},
   "outputs": [],
   "source": [
    "import pandas as pd\n",
    "import matplotlib.pyplot as plt\n",
    "from collections import Counter\n",
    "import string\n",
    "from nltk.corpus import stopwords\n",
    "from nltk.tokenize import word_tokenize\n",
    "\n",
    "import nltk"
   ]
  },
  {
   "cell_type": "code",
   "execution_count": 2,
   "id": "452cb6b7",
   "metadata": {},
   "outputs": [
    {
     "data": {
      "text/html": [
       "<div>\n",
       "<style scoped>\n",
       "    .dataframe tbody tr th:only-of-type {\n",
       "        vertical-align: middle;\n",
       "    }\n",
       "\n",
       "    .dataframe tbody tr th {\n",
       "        vertical-align: top;\n",
       "    }\n",
       "\n",
       "    .dataframe thead th {\n",
       "        text-align: right;\n",
       "    }\n",
       "</style>\n",
       "<table border=\"1\" class=\"dataframe\">\n",
       "  <thead>\n",
       "    <tr style=\"text-align: right;\">\n",
       "      <th></th>\n",
       "      <th>HITId</th>\n",
       "      <th>tweet</th>\n",
       "      <th>sentiment</th>\n",
       "      <th>directness</th>\n",
       "      <th>annotator_sentiment</th>\n",
       "      <th>target</th>\n",
       "      <th>group</th>\n",
       "    </tr>\n",
       "  </thead>\n",
       "  <tbody>\n",
       "    <tr>\n",
       "      <th>0</th>\n",
       "      <td>1</td>\n",
       "      <td>call sis im boy girl still faggot shut</td>\n",
       "      <td>offensive</td>\n",
       "      <td>indirect</td>\n",
       "      <td>confusion_disgust</td>\n",
       "      <td>origin</td>\n",
       "      <td>gay</td>\n",
       "    </tr>\n",
       "    <tr>\n",
       "      <th>1</th>\n",
       "      <td>2</td>\n",
       "      <td>@user @user legit nilas retarded idk</td>\n",
       "      <td>offensive_disrespectful</td>\n",
       "      <td>indirect</td>\n",
       "      <td>anger_confusion</td>\n",
       "      <td>disability</td>\n",
       "      <td>special_needs</td>\n",
       "    </tr>\n",
       "    <tr>\n",
       "      <th>2</th>\n",
       "      <td>3</td>\n",
       "      <td>said retard @url</td>\n",
       "      <td>fearful_abusive_offensive_hateful</td>\n",
       "      <td>indirect</td>\n",
       "      <td>confusion_disgust</td>\n",
       "      <td>disability</td>\n",
       "      <td>special_needs</td>\n",
       "    </tr>\n",
       "    <tr>\n",
       "      <th>3</th>\n",
       "      <td>4</td>\n",
       "      <td>america another 8 years obama's ideology via h...</td>\n",
       "      <td>fearful_abusive_hateful_disrespectful_normal</td>\n",
       "      <td>indirect</td>\n",
       "      <td>anger_fear_shock_sadness_disgust</td>\n",
       "      <td>origin</td>\n",
       "      <td>other</td>\n",
       "    </tr>\n",
       "    <tr>\n",
       "      <th>4</th>\n",
       "      <td>5</td>\n",
       "      <td>@user don... fucking made cry twat.</td>\n",
       "      <td>offensive</td>\n",
       "      <td>indirect</td>\n",
       "      <td>shock_disgust</td>\n",
       "      <td>gender</td>\n",
       "      <td>women</td>\n",
       "    </tr>\n",
       "  </tbody>\n",
       "</table>\n",
       "</div>"
      ],
      "text/plain": [
       "   HITId                                              tweet  \\\n",
       "0      1             call sis im boy girl still faggot shut   \n",
       "1      2               @user @user legit nilas retarded idk   \n",
       "2      3                                   said retard @url   \n",
       "3      4  america another 8 years obama's ideology via h...   \n",
       "4      5                @user don... fucking made cry twat.   \n",
       "\n",
       "                                      sentiment directness  \\\n",
       "0                                     offensive   indirect   \n",
       "1                       offensive_disrespectful   indirect   \n",
       "2             fearful_abusive_offensive_hateful   indirect   \n",
       "3  fearful_abusive_hateful_disrespectful_normal   indirect   \n",
       "4                                     offensive   indirect   \n",
       "\n",
       "                annotator_sentiment      target          group  \n",
       "0                 confusion_disgust      origin            gay  \n",
       "1                   anger_confusion  disability  special_needs  \n",
       "2                 confusion_disgust  disability  special_needs  \n",
       "3  anger_fear_shock_sadness_disgust      origin          other  \n",
       "4                     shock_disgust      gender          women  "
      ]
     },
     "execution_count": 2,
     "metadata": {},
     "output_type": "execute_result"
    }
   ],
   "source": [
    "data = pd.read_csv('data/en_dataset.csv')\n",
    "data.head()"
   ]
  },
  {
   "cell_type": "code",
   "execution_count": 3,
   "id": "19e659bc",
   "metadata": {},
   "outputs": [
    {
     "data": {
      "text/plain": [
       "Index(['HITId', 'tweet', 'sentiment', 'directness', 'annotator_sentiment',\n",
       "       'target', 'group'],\n",
       "      dtype='object')"
      ]
     },
     "execution_count": 3,
     "metadata": {},
     "output_type": "execute_result"
    }
   ],
   "source": [
    "data.columns"
   ]
  },
  {
   "cell_type": "code",
   "execution_count": 4,
   "id": "ae0ae8cb",
   "metadata": {},
   "outputs": [
    {
     "data": {
      "text/html": [
       "<div>\n",
       "<style scoped>\n",
       "    .dataframe tbody tr th:only-of-type {\n",
       "        vertical-align: middle;\n",
       "    }\n",
       "\n",
       "    .dataframe tbody tr th {\n",
       "        vertical-align: top;\n",
       "    }\n",
       "\n",
       "    .dataframe thead th {\n",
       "        text-align: right;\n",
       "    }\n",
       "</style>\n",
       "<table border=\"1\" class=\"dataframe\">\n",
       "  <thead>\n",
       "    <tr style=\"text-align: right;\">\n",
       "      <th></th>\n",
       "      <th>HITId</th>\n",
       "    </tr>\n",
       "  </thead>\n",
       "  <tbody>\n",
       "    <tr>\n",
       "      <th>count</th>\n",
       "      <td>5647.000000</td>\n",
       "    </tr>\n",
       "    <tr>\n",
       "      <th>mean</th>\n",
       "      <td>2824.000000</td>\n",
       "    </tr>\n",
       "    <tr>\n",
       "      <th>std</th>\n",
       "      <td>1630.292816</td>\n",
       "    </tr>\n",
       "    <tr>\n",
       "      <th>min</th>\n",
       "      <td>1.000000</td>\n",
       "    </tr>\n",
       "    <tr>\n",
       "      <th>25%</th>\n",
       "      <td>1412.500000</td>\n",
       "    </tr>\n",
       "    <tr>\n",
       "      <th>50%</th>\n",
       "      <td>2824.000000</td>\n",
       "    </tr>\n",
       "    <tr>\n",
       "      <th>75%</th>\n",
       "      <td>4235.500000</td>\n",
       "    </tr>\n",
       "    <tr>\n",
       "      <th>max</th>\n",
       "      <td>5647.000000</td>\n",
       "    </tr>\n",
       "  </tbody>\n",
       "</table>\n",
       "</div>"
      ],
      "text/plain": [
       "             HITId\n",
       "count  5647.000000\n",
       "mean   2824.000000\n",
       "std    1630.292816\n",
       "min       1.000000\n",
       "25%    1412.500000\n",
       "50%    2824.000000\n",
       "75%    4235.500000\n",
       "max    5647.000000"
      ]
     },
     "execution_count": 4,
     "metadata": {},
     "output_type": "execute_result"
    }
   ],
   "source": [
    "data.describe()"
   ]
  },
  {
   "cell_type": "code",
   "execution_count": 5,
   "id": "3f5782c0",
   "metadata": {},
   "outputs": [
    {
     "data": {
      "text/plain": [
       "sentiment\n",
       "offensive                                          2954\n",
       "normal                                              661\n",
       "hateful                                             315\n",
       "offensive_hateful                                   252\n",
       "offensive_disrespectful                             145\n",
       "abusive_offensive                                   115\n",
       "offensive_normal                                    114\n",
       "hateful_disrespectful                                96\n",
       "abusive_hateful                                      90\n",
       "fearful_abusive_offensive_hateful_disrespectful      85\n",
       "hateful_normal                                       79\n",
       "disrespectful_normal                                 69\n",
       "fearful_abusive_offensive_hateful_normal             62\n",
       "fearful_offensive_hateful_disrespectful_normal       61\n",
       "fearful_abusive_offensive_disrespectful_normal       53\n",
       "abusive_offensive_hateful_disrespectful_normal       53\n",
       "abusive_disrespectful                                50\n",
       "fearful_offensive                                    49\n",
       "fearful_abusive_hateful_disrespectful_normal         49\n",
       "fearful_hateful                                      41\n",
       "fearful_normal                                       37\n",
       "abusive_normal                                       34\n",
       "fearful                                              28\n",
       "fearful_offensive_disrespectful_hateful_normal       28\n",
       "abusive_offensive_disrespectful_hateful_normal       20\n",
       "fearful_disrespectful                                20\n",
       "fearful_abusive                                      17\n",
       "fearful_abusive_disrespectful_hateful_normal         14\n",
       "disrespectful                                        10\n",
       "disrespectful_hateful                                 8\n",
       "abusive_offensive_disrespectful_normal                5\n",
       "fearful_abusive_hateful_normal                        4\n",
       "abusive_offensive_hateful_normal                      4\n",
       "abusive_offensive_hateful_disrespectful               4\n",
       "fearful_abusive_offensive_hateful                     3\n",
       "offensive_hateful_disrespectful_normal                3\n",
       "fearful_offensive_hateful_normal                      2\n",
       "fearful_abusive_offensive_disrespectful               2\n",
       "fearful_abusive_offensive_normal                      2\n",
       "fearful_abusive_disrespectful_normal                  1\n",
       "fearful_hateful_disrespectful_normal                  1\n",
       "fearful_abusive_hateful_disrespectful                 1\n",
       "fearful_offensive_disrespectful_normal                1\n",
       "offensive_hateful_disrespectful                       1\n",
       "abusive_offensive_normal                              1\n",
       "abusive_disrespectful_hateful_normal                  1\n",
       "abusive                                               1\n",
       "fearful_offensive_hateful_disrespectful               1\n",
       "Name: count, dtype: int64"
      ]
     },
     "execution_count": 5,
     "metadata": {},
     "output_type": "execute_result"
    }
   ],
   "source": [
    "data['sentiment'].unique()\n",
    "data['sentiment'].value_counts()"
   ]
  },
  {
   "cell_type": "code",
   "execution_count": 6,
   "id": "744d87c4",
   "metadata": {},
   "outputs": [
    {
     "name": "stdout",
     "output_type": "stream",
     "text": [
      "['indirect' 'direct']\n"
     ]
    },
    {
     "data": {
      "text/plain": [
       "<Axes: >"
      ]
     },
     "execution_count": 6,
     "metadata": {},
     "output_type": "execute_result"
    },
    {
     "data": {
      "image/png": "[encoded data removed]",
      "text/plain": [
       "<Figure size 640x480 with 1 Axes>"
      ]
     },
     "metadata": {},
     "output_type": "display_data"
    }
   ],
   "source": [
    "print(data['directness'].unique())\n",
    "data['directness'].hist()"
   ]
  },
  {
   "cell_type": "code",
   "execution_count": 7,
   "id": "0ad31845",
   "metadata": {},
   "outputs": [
    {
     "data": {
      "text/plain": [
       "annotator_sentiment\n",
       "anger_disgust                      557\n",
       "sadness_disgust                    373\n",
       "indifference_disgust               365\n",
       "anger_sadness                      334\n",
       "sadness_indifference               311\n",
       "                                  ... \n",
       "anger_confusion_sadness_shock        2\n",
       "anger_confusion_fear_shock           2\n",
       "fear_shock_sadness_disgust           2\n",
       "anger_fear_indifference_sadness      2\n",
       "anger_fear_indifference_disgust      1\n",
       "Name: count, Length: 71, dtype: int64"
      ]
     },
     "execution_count": 7,
     "metadata": {},
     "output_type": "execute_result"
    }
   ],
   "source": [
    "data['annotator_sentiment'].unique()\n",
    "data['annotator_sentiment'].value_counts()"
   ]
  },
  {
   "cell_type": "code",
   "execution_count": 12,
   "id": "1b4a84d0",
   "metadata": {},
   "outputs": [
    {
     "name": "stdout",
     "output_type": "stream",
     "text": [
      "target\n",
      "origin                2448\n",
      "disability            1089\n",
      "other                  890\n",
      "gender                 638\n",
      "sexual_orientation     514\n",
      "religion                68\n",
      "Name: count, dtype: int64\n"
     ]
    },
    {
     "data": {
      "text/plain": [
       "<Axes: >"
      ]
     },
     "execution_count": 12,
     "metadata": {},
     "output_type": "execute_result"
    },
    {
     "data": {
      "image/png": "[encoded data removed]",
      "text/plain": [
       "<Figure size 640x480 with 1 Axes>"
      ]
     },
     "metadata": {},
     "output_type": "display_data"
    }
   ],
   "source": [
    "print(data['target'].value_counts())\n",
    "data['target'].hist()"
   ]
  },
  {
   "cell_type": "code",
   "execution_count": 9,
   "id": "71a1468e",
   "metadata": {},
   "outputs": [
    {
     "data": {
      "text/plain": [
       "group\n",
       "other               1590\n",
       "special_needs       1571\n",
       "women                878\n",
       "individual           497\n",
       "left_wing_people     177\n",
       "refugees             171\n",
       "gay                  163\n",
       "immigrants           130\n",
       "hispanics            105\n",
       "muslims              101\n",
       "african_descent       86\n",
       "indian/hindu          83\n",
       "asians                61\n",
       "jews                  24\n",
       "arabs                  6\n",
       "christian              4\n",
       "Name: count, dtype: int64"
      ]
     },
     "execution_count": 9,
     "metadata": {},
     "output_type": "execute_result"
    }
   ],
   "source": [
    "data['group'].unique()\n",
    "data['group'].value_counts()"
   ]
  },
  {
   "cell_type": "markdown",
   "id": "ef66b9d1",
   "metadata": {},
   "source": [
    "## Tweets"
   ]
  },
  {
   "cell_type": "code",
   "execution_count": 10,
   "id": "7116f523",
   "metadata": {},
   "outputs": [
    {
     "name": "stderr",
     "output_type": "stream",
     "text": [
      "[nltk_data] Downloading package stopwords to\n",
      "[nltk_data]     C:\\Users\\mathi\\AppData\\Roaming\\nltk_data...\n",
      "[nltk_data]   Package stopwords is already up-to-date!\n",
      "[nltk_data] Downloading package punkt to\n",
      "[nltk_data]     C:\\Users\\mathi\\AppData\\Roaming\\nltk_data...\n",
      "[nltk_data]   Package punkt is already up-to-date!\n",
      "[nltk_data] Downloading package punkt_tab to\n",
      "[nltk_data]     C:\\Users\\mathi\\AppData\\Roaming\\nltk_data...\n",
      "[nltk_data]   Package punkt_tab is already up-to-date!\n"
     ]
    }
   ],
   "source": [
    "nltk.download('stopwords')\n",
    "nltk.download('punkt')\n",
    "nltk.download('punkt_tab')\n",
    "\n",
    "\n",
    "# Text preprocessing function\n",
    "def preprocess_text(text):\n",
    "    # Convert to lowercase\n",
    "    text = text.lower()\n",
    "    # Remove punctuation\n",
    "    text = text.translate(str.maketrans('', '', string.punctuation))\n",
    "    # Tokenize the text\n",
    "    words = word_tokenize(text)\n",
    "    # Remove stopwords\n",
    "    stop_words = set(stopwords.words('english'))\n",
    "    words = [word for word in words if word not in stop_words]\n",
    "    return words\n",
    "\n",
    "# Apply preprocessing to the tweet column\n",
    "data['processed_tweets'] = data['tweet'].apply(preprocess_text)\n",
    "\n",
    "# Flatten the list of lists into a single list of words\n",
    "all_words = [word for tweet in data['processed_tweets'] for word in tweet]\n",
    "\n",
    "# Count word frequencies\n",
    "word_freq = Counter(all_words)\n",
    "\n",
    "# Get the top N words\n",
    "top_n = 100\n",
    "top_words = word_freq.most_common(top_n)\n"
   ]
  },
  {
   "cell_type": "code",
   "execution_count": 11,
   "id": "3fd08a3a",
   "metadata": {},
   "outputs": [
    {
     "name": "stdout",
     "output_type": "stream",
     "text": [
      "Top words: [('user', 4425), ('url', 2326), ('retarded', 622), ('retard', 616), ('faggot', 545), ('shithole', 501), ('cunt', 473), ('twat', 435), ('like', 393), ('im', 370), ('ching', 367), ('chong', 360), ('fucking', 322), ('country', 288), ('spic', 277), ('nigger', 251), ('people', 244), ('countries', 239), ('mongoloid', 218), ('get', 198), ('fuck', 192), ('u', 187), ('go', 170), ('one', 165), ('called', 157), ('got', 156), ('say', 141), ('illegal', 141), ('negro', 139), ('ass', 136), ('immigrants', 135), ('know', 133), ('shit', 131), ('back', 130), ('cant', 129), ('would', 128), ('dyke', 126), ('white', 125), ('hes', 121), ('even', 118), ('think', 111), ('aliens', 106), ('mongy', 104), ('call', 102), ('na', 100), ('mongol', 100), ('said', 95), ('time', 95), ('refugees', 94), ('amp', 92), ('man', 91), ('trump', 91), ('thats', 91), ('never', 90), ('want', 89), ('look', 89), ('lol', 86), ('bitch', 83), ('really', 83), ('right', 81), ('okay', 81), ('feminazi', 81), ('leftist', 79), ('still', 78), ('see', 78), ('going', 78), ('come', 76), ('dont', 73), ('love', 73), ('full', 73), ('good', 73), ('make', 71), ('hate', 70), ('stop', 70), ('need', 66), ('raghead', 66), ('stupid', 66), ('well', 65), ('us', 64), ('chinaman', 63), ('little', 63), ('n', 63), ('word', 62), ('shut', 61), ('saying', 61), ('ive', 60), ('world', 59), ('ever', 59), ('gon', 58), ('dumb', 57), ('much', 57), ('calling', 57), ('guy', 55), ('another', 54), ('take', 54), ('yeah', 54), ('every', 54), ('oh', 54), ('someone', 53), ('way', 52)]\n"
     ]
    }
   ],
   "source": [
    "print(\"Top words:\", top_words)"
   ]
  }
 ],
 "metadata": {
  "kernelspec": {
   "display_name": ".venv",
   "language": "python",
   "name": "python3"
  },
  "language_info": {
   "codemirror_mode": {
    "name": "ipython",
    "version": 3
   },
   "file_extension": ".py",
   "mimetype": "text/x-python",
   "name": "python",
   "nbconvert_exporter": "python",
   "pygments_lexer": "ipython3",
   "version": "3.10.5"
  }
 },
 "nbformat": 4,
 "nbformat_minor": 5
}
