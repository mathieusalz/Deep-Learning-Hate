{
 "cells": [
  {
   "cell_type": "code",
   "execution_count": 1,
   "id": "7421d848",
   "metadata": {},
   "outputs": [],
   "source": [
    "import pandas as pd\n",
    "import matplotlib.pyplot as plt\n",
    "from collections import Counter\n",
    "import string\n",
    "from nltk.corpus import stopwords\n",
    "from nltk.tokenize import word_tokenize\n",
    "\n",
    "import nltk"
   ]
  },
  {
   "cell_type": "code",
   "execution_count": 2,
   "id": "452cb6b7",
   "metadata": {},
   "outputs": [
    {
     "data": {
      "text/html": [
       "<div>\n",
       "<style scoped>\n",
       "    .dataframe tbody tr th:only-of-type {\n",
       "        vertical-align: middle;\n",
       "    }\n",
       "\n",
       "    .dataframe tbody tr th {\n",
       "        vertical-align: top;\n",
       "    }\n",
       "\n",
       "    .dataframe thead th {\n",
       "        text-align: right;\n",
       "    }\n",
       "</style>\n",
       "<table border=\"1\" class=\"dataframe\">\n",
       "  <thead>\n",
       "    <tr style=\"text-align: right;\">\n",
       "      <th></th>\n",
       "      <th>HITId</th>\n",
       "      <th>tweet</th>\n",
       "      <th>sentiment</th>\n",
       "      <th>directness</th>\n",
       "      <th>annotator_sentiment</th>\n",
       "      <th>target</th>\n",
       "      <th>group</th>\n",
       "    </tr>\n",
       "  </thead>\n",
       "  <tbody>\n",
       "    <tr>\n",
       "      <th>0</th>\n",
       "      <td>1</td>\n",
       "      <td>rt @user personnage ainsi q tte la clique gauc...</td>\n",
       "      <td>abusive</td>\n",
       "      <td>direct</td>\n",
       "      <td>shock</td>\n",
       "      <td>origin</td>\n",
       "      <td>other</td>\n",
       "    </tr>\n",
       "    <tr>\n",
       "      <th>1</th>\n",
       "      <td>2</td>\n",
       "      <td>@user @user @user bah oui t'as raison l'autre ...</td>\n",
       "      <td>offensive</td>\n",
       "      <td>indirect</td>\n",
       "      <td>shock</td>\n",
       "      <td>other</td>\n",
       "      <td>individual</td>\n",
       "    </tr>\n",
       "    <tr>\n",
       "      <th>2</th>\n",
       "      <td>3</td>\n",
       "      <td>moi j'ai personne à qui m'adresser pour réclam...</td>\n",
       "      <td>hateful</td>\n",
       "      <td>direct</td>\n",
       "      <td>anger_confusion_sadness_fear_disgust</td>\n",
       "      <td>other</td>\n",
       "      <td>women</td>\n",
       "    </tr>\n",
       "    <tr>\n",
       "      <th>3</th>\n",
       "      <td>4</td>\n",
       "      <td>@user @user c...est vrai que les anchois sont ...</td>\n",
       "      <td>normal</td>\n",
       "      <td>indirect</td>\n",
       "      <td>indifference</td>\n",
       "      <td>other</td>\n",
       "      <td>other</td>\n",
       "    </tr>\n",
       "    <tr>\n",
       "      <th>4</th>\n",
       "      <td>5</td>\n",
       "      <td>eh les renois faut se réveiller la @url</td>\n",
       "      <td>normal</td>\n",
       "      <td>direct</td>\n",
       "      <td>sadness</td>\n",
       "      <td>origin</td>\n",
       "      <td>african_descent</td>\n",
       "    </tr>\n",
       "  </tbody>\n",
       "</table>\n",
       "</div>"
      ],
      "text/plain": [
       "   HITId                                              tweet  sentiment  \\\n",
       "0      1  rt @user personnage ainsi q tte la clique gauc...    abusive   \n",
       "1      2  @user @user @user bah oui t'as raison l'autre ...  offensive   \n",
       "2      3  moi j'ai personne à qui m'adresser pour réclam...    hateful   \n",
       "3      4  @user @user c...est vrai que les anchois sont ...     normal   \n",
       "4      5            eh les renois faut se réveiller la @url     normal   \n",
       "\n",
       "  directness                   annotator_sentiment  target            group  \n",
       "0     direct                                 shock  origin            other  \n",
       "1   indirect                                 shock   other       individual  \n",
       "2     direct  anger_confusion_sadness_fear_disgust   other            women  \n",
       "3   indirect                          indifference   other            other  \n",
       "4     direct                               sadness  origin  african_descent  "
      ]
     },
     "execution_count": 2,
     "metadata": {},
     "output_type": "execute_result"
    }
   ],
   "source": [
    "data = pd.read_csv('data/fr_dataset.csv')\n",
    "data.head()"
   ]
  },
  {
   "cell_type": "code",
   "execution_count": 3,
   "id": "19e659bc",
   "metadata": {},
   "outputs": [
    {
     "data": {
      "text/plain": [
       "Index(['HITId', 'tweet', 'sentiment', 'directness', 'annotator_sentiment',\n",
       "       'target', 'group'],\n",
       "      dtype='object')"
      ]
     },
     "execution_count": 3,
     "metadata": {},
     "output_type": "execute_result"
    }
   ],
   "source": [
    "data.columns"
   ]
  },
  {
   "cell_type": "code",
   "execution_count": 4,
   "id": "3f5782c0",
   "metadata": {},
   "outputs": [
    {
     "data": {
      "text/plain": [
       "sentiment\n",
       "offensive                                          1336\n",
       "normal                                              821\n",
       "abusive                                             594\n",
       "fearful                                             236\n",
       "hateful                                             207\n",
       "                                                   ... \n",
       "fearful_offensive_disrespectful_normal                1\n",
       "fearful_disrespectful_hateful_normal                  1\n",
       "fearful_abusive_offensive_hateful_disrespectful       1\n",
       "fearful_offensive_hateful_disrespectful               1\n",
       "disrespectful_hateful                                 1\n",
       "Name: count, Length: 69, dtype: int64"
      ]
     },
     "execution_count": 4,
     "metadata": {},
     "output_type": "execute_result"
    }
   ],
   "source": [
    "data['sentiment'].unique()\n",
    "data['sentiment'].value_counts()"
   ]
  },
  {
   "cell_type": "code",
   "execution_count": 5,
   "id": "744d87c4",
   "metadata": {},
   "outputs": [
    {
     "name": "stdout",
     "output_type": "stream",
     "text": [
      "['direct' 'indirect']\n"
     ]
    },
    {
     "data": {
      "text/plain": [
       "<Axes: >"
      ]
     },
     "execution_count": 5,
     "metadata": {},
     "output_type": "execute_result"
    },
    {
     "data": {
      "image/png": "[encoded data removed]",
      "text/plain": [
       "<Figure size 640x480 with 1 Axes>"
      ]
     },
     "metadata": {},
     "output_type": "display_data"
    }
   ],
   "source": [
    "print(data['directness'].unique())\n",
    "data['directness'].hist()"
   ]
  },
  {
   "cell_type": "code",
   "execution_count": 6,
   "id": "0ad31845",
   "metadata": {},
   "outputs": [
    {
     "data": {
      "text/plain": [
       "annotator_sentiment\n",
       "indifference                998\n",
       "sadness                     896\n",
       "shock                       795\n",
       "indifference_disgust        142\n",
       "anger_indifference          106\n",
       "                           ... \n",
       "anger_fear_indifference       1\n",
       "anger_confusion_shock         1\n",
       "anger_confusion_sadness       1\n",
       "anger_fear_shock_disgust      1\n",
       "anger_fear_shock              1\n",
       "Name: count, Length: 104, dtype: int64"
      ]
     },
     "execution_count": 6,
     "metadata": {},
     "output_type": "execute_result"
    }
   ],
   "source": [
    "data['annotator_sentiment'].unique()\n",
    "data['annotator_sentiment'].value_counts()"
   ]
  },
  {
   "cell_type": "code",
   "execution_count": 15,
   "id": "1b4a84d0",
   "metadata": {},
   "outputs": [
    {
     "name": "stdout",
     "output_type": "stream",
     "text": [
      "target\n",
      "origin                2266\n",
      "other                 1386\n",
      "disability             177\n",
      "religion               146\n",
      "gender                  27\n",
      "sexual_orientation      12\n",
      "Name: count, dtype: int64\n"
     ]
    },
    {
     "data": {
      "text/plain": [
       "<Axes: >"
      ]
     },
     "execution_count": 15,
     "metadata": {},
     "output_type": "execute_result"
    },
    {
     "data": {
      "image/png": "[encoded data removed]",
      "text/plain": [
       "<Figure size 640x480 with 1 Axes>"
      ]
     },
     "metadata": {},
     "output_type": "display_data"
    }
   ],
   "source": [
    "print(data['target'].value_counts())\n",
    "data['target'].hist()"
   ]
  },
  {
   "cell_type": "code",
   "execution_count": 8,
   "id": "71a1468e",
   "metadata": {},
   "outputs": [
    {
     "data": {
      "text/plain": [
       "group\n",
       "other               1085\n",
       "individual           918\n",
       "left_wing_people     383\n",
       "indian/hindu         329\n",
       "african_descent      311\n",
       "arabs                298\n",
       "special_needs        174\n",
       "immigrants           105\n",
       "muslims               97\n",
       "asians                89\n",
       "jews                  73\n",
       "women                 62\n",
       "christian             31\n",
       "hispanics             25\n",
       "refugees              25\n",
       "gay                    9\n",
       "Name: count, dtype: int64"
      ]
     },
     "execution_count": 8,
     "metadata": {},
     "output_type": "execute_result"
    }
   ],
   "source": [
    "data['group'].unique()\n",
    "data['group'].value_counts()"
   ]
  },
  {
   "cell_type": "markdown",
   "id": "ef66b9d1",
   "metadata": {},
   "source": [
    "## Tweets"
   ]
  },
  {
   "cell_type": "code",
   "execution_count": 11,
   "id": "7116f523",
   "metadata": {},
   "outputs": [
    {
     "name": "stderr",
     "output_type": "stream",
     "text": [
      "[nltk_data] Downloading package stopwords to\n",
      "[nltk_data]     C:\\Users\\mathi\\AppData\\Roaming\\nltk_data...\n",
      "[nltk_data]   Package stopwords is already up-to-date!\n",
      "[nltk_data] Downloading package punkt to\n",
      "[nltk_data]     C:\\Users\\mathi\\AppData\\Roaming\\nltk_data...\n",
      "[nltk_data]   Package punkt is already up-to-date!\n",
      "[nltk_data] Downloading package punkt_tab to\n",
      "[nltk_data]     C:\\Users\\mathi\\AppData\\Roaming\\nltk_data...\n",
      "[nltk_data]   Package punkt_tab is already up-to-date!\n"
     ]
    }
   ],
   "source": [
    "# Download necessary NLTK data\n",
    "nltk.download('stopwords')\n",
    "nltk.download('punkt')\n",
    "nltk.download('punkt_tab')\n",
    "\n",
    "# Text preprocessing function\n",
    "def preprocess_text(text, language='french'):\n",
    "    # Convert to lowercase\n",
    "    text = text.lower()\n",
    "    # Remove punctuation\n",
    "    text = text.translate(str.maketrans('', '', string.punctuation))\n",
    "    # Tokenize the text\n",
    "    words = word_tokenize(text)\n",
    "    # Remove stopwords\n",
    "    stop_words = set(stopwords.words(language))\n",
    "    words = [word for word in words if word not in stop_words]\n",
    "    return words\n",
    "\n",
    "# Apply preprocessing to the tweet column using French stopwords\n",
    "data['processed_tweets'] = data['tweet'].apply(preprocess_text, language='french')\n",
    "\n",
    "# Flatten the list of lists into a single list of words\n",
    "all_words = [word for tweet in data['processed_tweets'] for word in tweet]\n",
    "\n",
    "# Count word frequencies\n",
    "word_freq = Counter(all_words)\n",
    "\n",
    "# Get the top N words\n",
    "top_n = 100\n",
    "top_words = word_freq.most_common(top_n)\n"
   ]
  },
  {
   "cell_type": "code",
   "execution_count": 12,
   "id": "3fd08a3a",
   "metadata": {},
   "outputs": [
    {
     "name": "stdout",
     "output_type": "stream",
     "text": [
      "Top words: [('user', 4113), ('url', 1895), ('’', 1361), ('mongol', 632), ('gauchiste', 499), ('attardé', 445), ('cest', 396), ('renois', 390), ('sale', 327), ('ça', 287), ('rebeus', 268), ('plus', 239), ('arabe', 203), ('comme', 200), ('migrants', 187), ('fait', 173), ('contre', 171), ('quand', 156), ('arabes', 147), ('si', 143), ('tout', 138), ('bien', 136), ('«', 132), ('va', 130), ('faire', 129), ('violence', 122), ('terrorisme', 119), ('trop', 115), ('»', 108), ('tous', 100), ('non', 99), ('a', 97), ('gros', 96), ('quoi', 91), ('rien', 89), ('vraiment', 88), ('dit', 87), ('france', 87), ('dire', 86), ('rt', 84), ('aussi', 84), ('juif', 82), ('jai', 81), ('faut', 81), ('attarde', 81), ('oui', 80), ('être', 79), ('donc', 79), ('juste', 78), ('mdr', 78), ('parle', 73), ('cette', 73), ('ca', 67), ('bon', 66), ('peut', 65), ('encore', 65), ('réfugiés', 63), ('alors', 62), ('merde', 62), ('quel', 60), ('putain', 59), ('ya', 58), ('lavortement', 56), ('là', 56), ('peu', 56), ('comment', 55), ('quil', 54), ('dis', 53), ('gens', 53), ('pourquoi', 51), ('—', 51), ('sans', 51), ('parce', 50), ('mec', 50), ('vu', 49), ('quon', 49), ('ah', 49), ('pays', 49), ('mental', 46), ('tweet', 46), ('1', 45), ('islam', 45), ('bah', 44), ('voir', 44), ('avortement', 44), ('genre', 44), ('jamais', 44), ('mal', 44), ('déjà', 44), ('rebeu', 43), ('veut', 42), ('entre', 42), ('fais', 42), ('font', 41), ('monde', 41), ('complotiste', 41), ('nest', 40), ('noirs', 40), ('vrai', 39), ('toujours', 39)]\n"
     ]
    }
   ],
   "source": [
    "print(\"Top words:\", top_words)"
   ]
  }
 ],
 "metadata": {
  "kernelspec": {
   "display_name": ".venv",
   "language": "python",
   "name": "python3"
  },
  "language_info": {
   "codemirror_mode": {
    "name": "ipython",
    "version": 3
   },
   "file_extension": ".py",
   "mimetype": "text/x-python",
   "name": "python",
   "nbconvert_exporter": "python",
   "pygments_lexer": "ipython3",
   "version": "3.10.5"
  }
 },
 "nbformat": 4,
 "nbformat_minor": 5
}
